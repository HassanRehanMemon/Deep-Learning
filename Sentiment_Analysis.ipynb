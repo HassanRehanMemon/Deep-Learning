{
  "nbformat": 4,
  "nbformat_minor": 0,
  "metadata": {
    "colab": {
      "name": "Sentiment Analysis.ipynb",
      "provenance": [],
      "collapsed_sections": [],
      "mount_file_id": "1-oXLrJznfdNumrOztHkkSNz8Gp56pSID",
      "authorship_tag": "ABX9TyPWl4cHj8IL58HSHKBi1Q2o",
      "include_colab_link": true
    },
    "kernelspec": {
      "display_name": "Python 3",
      "name": "python3"
    },
    "language_info": {
      "name": "python"
    }
  },
  "cells": [
    {
      "cell_type": "markdown",
      "metadata": {
        "id": "view-in-github",
        "colab_type": "text"
      },
      "source": [
        "<a href=\"https://colab.research.google.com/github/HassanRehanMemon/Deep-Learning/blob/main/Sentiment_Analysis.ipynb\" target=\"_parent\"><img src=\"https://colab.research.google.com/assets/colab-badge.svg\" alt=\"Open In Colab\"/></a>"
      ]
    },
    {
      "cell_type": "markdown",
      "metadata": {
        "id": "Xb39aR4SHJq8"
      },
      "source": [
        "### IMPORT and Constants"
      ]
    },
    {
      "cell_type": "code",
      "metadata": {
        "id": "-P_YBPQOaIWC"
      },
      "source": [
        "# DataFrame\n",
        "import pandas as pd\n",
        "\n",
        "# Matplot\n",
        "import matplotlib.pyplot as plt\n",
        "%matplotlib inline\n",
        "\n",
        "# Scikit-learn\n",
        "from sklearn.model_selection import train_test_split\n",
        "from sklearn.preprocessing import LabelEncoder\n",
        "from sklearn.metrics import confusion_matrix, classification_report, accuracy_score\n",
        "from sklearn.manifold import TSNE\n",
        "from sklearn.feature_extraction.text import TfidfVectorizer\n",
        "\n",
        "# Keras\n",
        "from keras.preprocessing.text import Tokenizer\n",
        "from keras.preprocessing.sequence import pad_sequences\n",
        "from keras.models import Sequential\n",
        "from keras.layers import Activation, Dense, Dropout, Embedding, Flatten, Conv1D, MaxPooling1D, LSTM\n",
        "from keras import utils\n",
        "from keras.callbacks import ReduceLROnPlateau, EarlyStopping\n",
        "\n",
        "# nltk\n",
        "import nltk\n",
        "from nltk.corpus import stopwords\n",
        "from  nltk.stem import SnowballStemmer\n",
        "\n",
        "# Word2vec\n",
        "import gensim\n",
        "\n",
        "# Utility\n",
        "import re\n",
        "import numpy as np\n",
        "import os\n",
        "from collections import Counter\n",
        "import logging\n",
        "import time\n",
        "import pickle\n",
        "import itertools"
      ],
      "execution_count": null,
      "outputs": []
    },
    {
      "cell_type": "code",
      "metadata": {
        "colab": {
          "base_uri": "https://localhost:8080/"
        },
        "id": "4X2c5U_6iJ_R",
        "outputId": "016b08c0-e323-4646-db7f-125c9dde43e8"
      },
      "source": [
        "DATASET_COLUMNS = [\"target\", \"ids\", \"date\", \"flag\", \"user\", \"text\"]\n",
        "DATASET_ENCODING = \"ISO-8859-1\"\n",
        "TEXT_CLEANING_RE = \"@\\S+|https?:\\S+|http?:\\S|[^A-Za-z0-9]+\"\n",
        "\n",
        "# WORD2VEC \n",
        "W2V_SIZE = 300\n",
        "W2V_WINDOW = 7\n",
        "W2V_EPOCH = 32\n",
        "W2V_MIN_COUNT = 10\n",
        "\n",
        "\n",
        "SEQ_LENGTH = 300\n",
        "\n",
        "BATCH_SIZE = 1024\n",
        "epochs = 8\n",
        "\n",
        "\n",
        "nltk.download('stopwords')"
      ],
      "execution_count": null,
      "outputs": [
        {
          "output_type": "stream",
          "name": "stdout",
          "text": [
            "[nltk_data] Downloading package stopwords to /root/nltk_data...\n",
            "[nltk_data]   Unzipping corpora/stopwords.zip.\n"
          ]
        },
        {
          "output_type": "execute_result",
          "data": {
            "text/plain": [
              "True"
            ]
          },
          "metadata": {},
          "execution_count": 5
        }
      ]
    },
    {
      "cell_type": "markdown",
      "metadata": {
        "id": "58hamLo5HQn5"
      },
      "source": [
        "### Data Collection and Cleaning"
      ]
    },
    {
      "cell_type": "code",
      "metadata": {
        "id": "qNSiGM1cgmUc"
      },
      "source": [
        "data = pd.read_csv('/content/drive/MyDrive/twitter/training.1600000.processed.noemoticon.csv', encoding=DATASET_ENCODING, names=DATASET_COLUMNS)"
      ],
      "execution_count": null,
      "outputs": []
    },
    {
      "cell_type": "code",
      "metadata": {
        "colab": {
          "base_uri": "https://localhost:8080/"
        },
        "id": "ZLRCtegthsPl",
        "outputId": "2e17a249-5818-4cbc-8e0b-ac3dcd541d5d"
      },
      "source": [
        "data.head(5)"
      ],
      "execution_count": null,
      "outputs": [
        {
          "output_type": "execute_result",
          "data": {
            "text/html": [
              "<div>\n",
              "<style scoped>\n",
              "    .dataframe tbody tr th:only-of-type {\n",
              "        vertical-align: middle;\n",
              "    }\n",
              "\n",
              "    .dataframe tbody tr th {\n",
              "        vertical-align: top;\n",
              "    }\n",
              "\n",
              "    .dataframe thead th {\n",
              "        text-align: right;\n",
              "    }\n",
              "</style>\n",
              "<table border=\"1\" class=\"dataframe\">\n",
              "  <thead>\n",
              "    <tr style=\"text-align: right;\">\n",
              "      <th></th>\n",
              "      <th>target</th>\n",
              "      <th>ids</th>\n",
              "      <th>date</th>\n",
              "      <th>flag</th>\n",
              "      <th>user</th>\n",
              "      <th>text</th>\n",
              "    </tr>\n",
              "  </thead>\n",
              "  <tbody>\n",
              "    <tr>\n",
              "      <th>0</th>\n",
              "      <td>0</td>\n",
              "      <td>1467810369</td>\n",
              "      <td>Mon Apr 06 22:19:45 PDT 2009</td>\n",
              "      <td>NO_QUERY</td>\n",
              "      <td>_TheSpecialOne_</td>\n",
              "      <td>@switchfoot http://twitpic.com/2y1zl - Awww, t...</td>\n",
              "    </tr>\n",
              "    <tr>\n",
              "      <th>1</th>\n",
              "      <td>0</td>\n",
              "      <td>1467810672</td>\n",
              "      <td>Mon Apr 06 22:19:49 PDT 2009</td>\n",
              "      <td>NO_QUERY</td>\n",
              "      <td>scotthamilton</td>\n",
              "      <td>is upset that he can't update his Facebook by ...</td>\n",
              "    </tr>\n",
              "    <tr>\n",
              "      <th>2</th>\n",
              "      <td>0</td>\n",
              "      <td>1467810917</td>\n",
              "      <td>Mon Apr 06 22:19:53 PDT 2009</td>\n",
              "      <td>NO_QUERY</td>\n",
              "      <td>mattycus</td>\n",
              "      <td>@Kenichan I dived many times for the ball. Man...</td>\n",
              "    </tr>\n",
              "    <tr>\n",
              "      <th>3</th>\n",
              "      <td>0</td>\n",
              "      <td>1467811184</td>\n",
              "      <td>Mon Apr 06 22:19:57 PDT 2009</td>\n",
              "      <td>NO_QUERY</td>\n",
              "      <td>ElleCTF</td>\n",
              "      <td>my whole body feels itchy and like its on fire</td>\n",
              "    </tr>\n",
              "    <tr>\n",
              "      <th>4</th>\n",
              "      <td>0</td>\n",
              "      <td>1467811193</td>\n",
              "      <td>Mon Apr 06 22:19:57 PDT 2009</td>\n",
              "      <td>NO_QUERY</td>\n",
              "      <td>Karoli</td>\n",
              "      <td>@nationwideclass no, it's not behaving at all....</td>\n",
              "    </tr>\n",
              "  </tbody>\n",
              "</table>\n",
              "</div>"
            ],
            "text/plain": [
              "   target  ...                                               text\n",
              "0       0  ...  @switchfoot http://twitpic.com/2y1zl - Awww, t...\n",
              "1       0  ...  is upset that he can't update his Facebook by ...\n",
              "2       0  ...  @Kenichan I dived many times for the ball. Man...\n",
              "3       0  ...    my whole body feels itchy and like its on fire \n",
              "4       0  ...  @nationwideclass no, it's not behaving at all....\n",
              "\n",
              "[5 rows x 6 columns]"
            ]
          },
          "metadata": {},
          "execution_count": 15
        }
      ]
    },
    {
      "cell_type": "code",
      "metadata": {
        "id": "Va5bzi8Tc2Fc"
      },
      "source": [
        "decoder_map = {0:'Positive', 2: 'Neutral', 4:'Negative'}\n",
        "def decode_targets(target):\n",
        "  return decoder_map[int(target)]\n",
        "\n",
        "data['target'] = data['target'].apply(decode_targets)"
      ],
      "execution_count": null,
      "outputs": []
    },
    {
      "cell_type": "code",
      "metadata": {
        "colab": {
          "base_uri": "https://localhost:8080/"
        },
        "id": "h7Rl7nQSjFt9",
        "outputId": "bfd94b50-d73b-41bf-96f2-b73728ed145b"
      },
      "source": [
        "targets = Counter(data['target'])\n",
        "plt.bar(targets.keys(), targets.values())\n",
        "plt.show()"
      ],
      "execution_count": null,
      "outputs": [
        {
          "output_type": "display_data",
          "data": {
            "image/png": "[encoded data removed]",
            "text/plain": [
              "<Figure size 432x288 with 1 Axes>"
            ]
          },
          "metadata": {
            "needs_background": "light"
          }
        }
      ]
    },
    {
      "cell_type": "code",
      "metadata": {
        "id": "DzoQLXjqXJ2r"
      },
      "source": [
        "stop_words =  stopwords.words(\"english\")"
      ],
      "execution_count": null,
      "outputs": []
    },
    {
      "cell_type": "code",
      "metadata": {
        "colab": {
          "base_uri": "https://localhost:8080/"
        },
        "id": "_d0gVuo_Kuvp",
        "outputId": "1d9d3875-7fbf-4544-c99b-d3a104c0d126"
      },
      "source": [
        "print(len(stop_words))\n",
        "print('Some Stop Words',str(stop_words[:10]))"
      ],
      "execution_count": null,
      "outputs": [
        {
          "output_type": "stream",
          "name": "stdout",
          "text": [
            "179\n",
            "Some Stop Words ['i', 'me', 'my', 'myself', 'we', 'our', 'ours', 'ourselves', 'you', \"you're\"]\n"
          ]
        }
      ]
    },
    {
      "cell_type": "code",
      "metadata": {
        "id": "_XJBVtNwjPXt"
      },
      "source": [
        "def clean_text(text, stem=False):\n",
        "    # Remove link,user and special characters\n",
        "    text = re.sub(TEXT_CLEANING_RE, ' ', str(text).lower()).strip()\n",
        "    tokens = []\n",
        "    for token in text.split():\n",
        "        if token not in stop_words:\n",
        "            if stem:\n",
        "                tokens.append(stemmer.stem(token))\n",
        "            else:\n",
        "                tokens.append(token)\n",
        "    return \" \".join(tokens)"
      ],
      "execution_count": null,
      "outputs": []
    },
    {
      "cell_type": "code",
      "metadata": {
        "id": "ncJh4Bq-WS6d"
      },
      "source": [
        "data['text'] = data.text.apply(lambda x: clean_text(x))"
      ],
      "execution_count": null,
      "outputs": []
    },
    {
      "cell_type": "code",
      "metadata": {
        "colab": {
          "base_uri": "https://localhost:8080/"
        },
        "id": "W_USZbHYWgSy",
        "outputId": "fe1daf0b-0cd5-4b54-9f63-63560de7d1db"
      },
      "source": [
        "data.head(5)"
      ],
      "execution_count": null,
      "outputs": [
        {
          "output_type": "execute_result",
          "data": {
            "text/html": [
              "<div>\n",
              "<style scoped>\n",
              "    .dataframe tbody tr th:only-of-type {\n",
              "        vertical-align: middle;\n",
              "    }\n",
              "\n",
              "    .dataframe tbody tr th {\n",
              "        vertical-align: top;\n",
              "    }\n",
              "\n",
              "    .dataframe thead th {\n",
              "        text-align: right;\n",
              "    }\n",
              "</style>\n",
              "<table border=\"1\" class=\"dataframe\">\n",
              "  <thead>\n",
              "    <tr style=\"text-align: right;\">\n",
              "      <th></th>\n",
              "      <th>target</th>\n",
              "      <th>ids</th>\n",
              "      <th>date</th>\n",
              "      <th>flag</th>\n",
              "      <th>user</th>\n",
              "      <th>text</th>\n",
              "    </tr>\n",
              "  </thead>\n",
              "  <tbody>\n",
              "    <tr>\n",
              "      <th>0</th>\n",
              "      <td>Positive</td>\n",
              "      <td>1467810369</td>\n",
              "      <td>Mon Apr 06 22:19:45 PDT 2009</td>\n",
              "      <td>NO_QUERY</td>\n",
              "      <td>_TheSpecialOne_</td>\n",
              "      <td>awww bummer shoulda got david carr third day</td>\n",
              "    </tr>\n",
              "    <tr>\n",
              "      <th>1</th>\n",
              "      <td>Positive</td>\n",
              "      <td>1467810672</td>\n",
              "      <td>Mon Apr 06 22:19:49 PDT 2009</td>\n",
              "      <td>NO_QUERY</td>\n",
              "      <td>scotthamilton</td>\n",
              "      <td>upset update facebook texting might cry result...</td>\n",
              "    </tr>\n",
              "    <tr>\n",
              "      <th>2</th>\n",
              "      <td>Positive</td>\n",
              "      <td>1467810917</td>\n",
              "      <td>Mon Apr 06 22:19:53 PDT 2009</td>\n",
              "      <td>NO_QUERY</td>\n",
              "      <td>mattycus</td>\n",
              "      <td>dived many times ball managed save 50 rest go ...</td>\n",
              "    </tr>\n",
              "    <tr>\n",
              "      <th>3</th>\n",
              "      <td>Positive</td>\n",
              "      <td>1467811184</td>\n",
              "      <td>Mon Apr 06 22:19:57 PDT 2009</td>\n",
              "      <td>NO_QUERY</td>\n",
              "      <td>ElleCTF</td>\n",
              "      <td>whole body feels itchy like fire</td>\n",
              "    </tr>\n",
              "    <tr>\n",
              "      <th>4</th>\n",
              "      <td>Positive</td>\n",
              "      <td>1467811193</td>\n",
              "      <td>Mon Apr 06 22:19:57 PDT 2009</td>\n",
              "      <td>NO_QUERY</td>\n",
              "      <td>Karoli</td>\n",
              "      <td>behaving mad see</td>\n",
              "    </tr>\n",
              "  </tbody>\n",
              "</table>\n",
              "</div>"
            ],
            "text/plain": [
              "     target  ...                                               text\n",
              "0  Positive  ...       awww bummer shoulda got david carr third day\n",
              "1  Positive  ...  upset update facebook texting might cry result...\n",
              "2  Positive  ...  dived many times ball managed save 50 rest go ...\n",
              "3  Positive  ...                   whole body feels itchy like fire\n",
              "4  Positive  ...                                   behaving mad see\n",
              "\n",
              "[5 rows x 6 columns]"
            ]
          },
          "metadata": {},
          "execution_count": 22
        }
      ]
    },
    {
      "cell_type": "code",
      "metadata": {
        "id": "WgfHdodUe1Yk"
      },
      "source": [
        "trainDf, testDf = train_test_split(data, test_size= 0.2, random_state=42)"
      ],
      "execution_count": null,
      "outputs": []
    },
    {
      "cell_type": "code",
      "metadata": {
        "colab": {
          "base_uri": "https://localhost:8080/"
        },
        "id": "UbRCOo7fp1LD",
        "outputId": "41a9ea22-90b0-4a6a-e721-b6993aa595f3"
      },
      "source": [
        "print('train, test =', len(trainDf), len(testDf))"
      ],
      "execution_count": null,
      "outputs": [
        {
          "output_type": "stream",
          "name": "stdout",
          "text": [
            "train, test = 1280000 320000\n"
          ]
        }
      ]
    },
    {
      "cell_type": "markdown",
      "metadata": {
        "id": "5xTDxWm4qGoy"
      },
      "source": [
        "### Word2Vec"
      ]
    },
    {
      "cell_type": "code",
      "metadata": {
        "id": "f_y2OmxZ3yYk"
      },
      "source": [
        "# Saved model after training\n",
        "w2vModel = gensim.models.word2vec.Word2Vec.load('/content/drive/MyDrive/twitter/word2vec.model')"
      ],
      "execution_count": null,
      "outputs": []
    },
    {
      "cell_type": "code",
      "metadata": {
        "id": "XfO-ftjeqFuZ"
      },
      "source": [
        "w2vModel = gensim.models.word2vec.Word2Vec(\n",
        "    size= W2V_SIZE,\n",
        "    window=W2V_WINDOW,\n",
        "    min_count = W2V_MIN_COUNT,\n",
        "    workers=8\n",
        ")"
      ],
      "execution_count": null,
      "outputs": []
    },
    {
      "cell_type": "code",
      "metadata": {
        "id": "0JkiMVABqAAa"
      },
      "source": [
        "documents = [_text.split() for _text in trainDf.text]"
      ],
      "execution_count": null,
      "outputs": []
    },
    {
      "cell_type": "code",
      "metadata": {
        "id": "HlTW7KXprLiX"
      },
      "source": [
        "w2vModel.build_vocab(documents)"
      ],
      "execution_count": null,
      "outputs": []
    },
    {
      "cell_type": "code",
      "metadata": {
        "id": "6sHwUzHyrgXK"
      },
      "source": [
        "words = w2vModel.wv.vocab.keys()"
      ],
      "execution_count": null,
      "outputs": []
    },
    {
      "cell_type": "code",
      "metadata": {
        "colab": {
          "base_uri": "https://localhost:8080/"
        },
        "id": "j3HBILTCrs1c",
        "outputId": "bb78306c-6646-4d13-c62a-322c37e064a3"
      },
      "source": [
        "print('vocab_size :', len(words))\n",
        "print(list(itertools.islice(words, 10)))"
      ],
      "execution_count": null,
      "outputs": [
        {
          "name": "stdout",
          "output_type": "stream",
          "text": [
            "vocab_size : 30369\n",
            "['ya', 'quot', 'like', 'palm', 'pre', 'charger', 'yes', 'sounds', 'good', 'beer']\n"
          ]
        }
      ]
    },
    {
      "cell_type": "code",
      "metadata": {
        "colab": {
          "base_uri": "https://localhost:8080/"
        },
        "id": "y_aSq9Lcskh2",
        "outputId": "a258858a-1121-40fb-a58c-73ba3771aa30"
      },
      "source": [
        "for i, word in enumerate(words):\n",
        "  print(word,'\\t', w2vModel.wv.vocab[word])\n",
        "  if i >= 10:\n",
        "    break "
      ],
      "execution_count": null,
      "outputs": [
        {
          "name": "stdout",
          "output_type": "stream",
          "text": [
            "ya \t Vocab(count:8715, index:163, sample_int:4294967296)\n",
            "quot \t Vocab(count:57678, index:5, sample_int:2329646646)\n",
            "like \t Vocab(count:62879, index:3, sample_int:2204761709)\n",
            "palm \t Vocab(count:493, index:2253, sample_int:4294967296)\n",
            "pre \t Vocab(count:1129, index:1145, sample_int:4294967296)\n",
            "charger \t Vocab(count:468, index:2362, sample_int:4294967296)\n",
            "yes \t Vocab(count:14883, index:74, sample_int:4294967296)\n",
            "sounds \t Vocab(count:7032, index:211, sample_int:4294967296)\n",
            "good \t Vocab(count:72990, index:0, sample_int:2006369529)\n",
            "beer \t Vocab(count:2023, index:711, sample_int:4294967296)\n",
            "ready \t Vocab(count:11186, index:117, sample_int:4294967296)\n"
          ]
        }
      ]
    },
    {
      "cell_type": "code",
      "metadata": {
        "colab": {
          "base_uri": "https://localhost:8080/"
        },
        "id": "U6MvKSMbtz2d",
        "outputId": "3faf3073-295d-476f-88e7-d9864140753e"
      },
      "source": [
        "w2vModel.train(documents, total_examples=len(documents), epochs= W2V_EPOCH)"
      ],
      "execution_count": null,
      "outputs": [
        {
          "data": {
            "text/plain": [
              "(263125723, 295270528)"
            ]
          },
          "execution_count": 20,
          "metadata": {},
          "output_type": "execute_result"
        }
      ]
    },
    {
      "cell_type": "code",
      "metadata": {
        "id": "V1pOgaOmogwv"
      },
      "source": [
        "w2vModel.save(\"/content/drive/MyDrive/twitter/word2vec.model\")"
      ],
      "execution_count": null,
      "outputs": []
    },
    {
      "cell_type": "code",
      "metadata": {
        "colab": {
          "base_uri": "https://localhost:8080/"
        },
        "id": "qLJTU3G-zXVf",
        "outputId": "34eafef7-e335-4b87-bcbc-a98e215e4d9d"
      },
      "source": [
        "w2vModel.wv.word_vec('ya').shape"
      ],
      "execution_count": null,
      "outputs": [
        {
          "data": {
            "text/plain": [
              "(300,)"
            ]
          },
          "execution_count": 57,
          "metadata": {},
          "output_type": "execute_result"
        }
      ]
    },
    {
      "cell_type": "code",
      "metadata": {
        "colab": {
          "base_uri": "https://localhost:8080/"
        },
        "id": "LB6ibVrLr6_L",
        "outputId": "af3f1536-1358-498b-d19c-86ddd1d56e6d"
      },
      "source": [
        "for i, word in enumerate(words):\n",
        "  print(word,'\\t', w2vModel.wv.vocab[word])\n",
        "  if i >= 10:\n",
        "    break "
      ],
      "execution_count": null,
      "outputs": [
        {
          "name": "stdout",
          "output_type": "stream",
          "text": [
            "ya \t Vocab(count:8715, index:163, sample_int:4294967296)\n",
            "quot \t Vocab(count:57678, index:5, sample_int:2329646646)\n",
            "like \t Vocab(count:62879, index:3, sample_int:2204761709)\n",
            "palm \t Vocab(count:493, index:2253, sample_int:4294967296)\n",
            "pre \t Vocab(count:1129, index:1145, sample_int:4294967296)\n",
            "charger \t Vocab(count:468, index:2362, sample_int:4294967296)\n",
            "yes \t Vocab(count:14883, index:74, sample_int:4294967296)\n",
            "sounds \t Vocab(count:7032, index:211, sample_int:4294967296)\n",
            "good \t Vocab(count:72990, index:0, sample_int:2006369529)\n",
            "beer \t Vocab(count:2023, index:711, sample_int:4294967296)\n",
            "ready \t Vocab(count:11186, index:117, sample_int:4294967296)\n"
          ]
        }
      ]
    },
    {
      "cell_type": "code",
      "metadata": {
        "colab": {
          "base_uri": "https://localhost:8080/"
        },
        "id": "8-V1luAHuGhu",
        "outputId": "5b250ab3-e724-4042-ae9a-f5f0be8bf40a"
      },
      "source": [
        "w2vModel.similar_by_word('like')"
      ],
      "execution_count": null,
      "outputs": [
        {
          "name": "stderr",
          "output_type": "stream",
          "text": [
            "/usr/local/lib/python3.7/dist-packages/ipykernel_launcher.py:1: DeprecationWarning: Call to deprecated `similar_by_word` (Method will be removed in 4.0.0, use self.wv.similar_by_word() instead).\n",
            "  \"\"\"Entry point for launching an IPython kernel.\n"
          ]
        },
        {
          "data": {
            "text/plain": [
              "[('liek', 0.5212579369544983),\n",
              " ('weird', 0.4627820551395416),\n",
              " ('bad', 0.4473360776901245),\n",
              " ('inadequate', 0.4237218499183655),\n",
              " ('better', 0.4065791368484497),\n",
              " ('different', 0.38669127225875854),\n",
              " ('odd', 0.38525259494781494),\n",
              " ('stalkerish', 0.38217806816101074),\n",
              " ('pathetic', 0.3808736801147461),\n",
              " ('mean', 0.3781347870826721)]"
            ]
          },
          "execution_count": 27,
          "metadata": {},
          "output_type": "execute_result"
        }
      ]
    },
    {
      "cell_type": "markdown",
      "metadata": {
        "id": "AYvcRvZc5i74"
      },
      "source": [
        "## Tokenizer"
      ]
    },
    {
      "cell_type": "code",
      "metadata": {
        "colab": {
          "base_uri": "https://localhost:8080/"
        },
        "id": "y1WXKXeCuapO",
        "outputId": "c6e0673c-b938-4de1-d4cb-ec985f57c445"
      },
      "source": [
        "tokenizer = Tokenizer()\n",
        "tokenizer.fit_on_texts(trainDf.text)\n",
        "\n",
        "vocab_size = len(tokenizer.word_index) +1\n",
        "print('vocab_size', vocab_size)"
      ],
      "execution_count": null,
      "outputs": [
        {
          "output_type": "stream",
          "name": "stdout",
          "text": [
            "vocab_size 290419\n"
          ]
        }
      ]
    },
    {
      "cell_type": "code",
      "metadata": {
        "colab": {
          "base_uri": "https://localhost:8080/"
        },
        "id": "-oDa3es9vqMe",
        "outputId": "c71a791d-5cae-4e45-f9d0-26337c367cb6"
      },
      "source": [
        "# print(tokenizer.document_count)\n",
        "for i, ( word, idx) in enumerate(tokenizer.word_index.items()):\n",
        "  print(word, idx, w2vModel.wv.vocab[word], sep='\\t\\t')\n",
        "  if i >15:\n",
        "    break\n",
        "\n",
        "print('-'*100)\n",
        "for  w in trainDf.text[0].split():\n",
        "  print(w, tokenizer.word_index[w], w2vModel.wv.vocab[w], sep='\\t\\t')\n",
        "\n"
      ],
      "execution_count": null,
      "outputs": [
        {
          "output_type": "stream",
          "name": "stdout",
          "text": [
            "good\t\t1\t\tVocab(count:72990, index:0, sample_int:2006369529)\n",
            "day\t\t2\t\tVocab(count:69741, index:1, sample_int:2064744927)\n",
            "get\t\t3\t\tVocab(count:65663, index:2, sample_int:2144939496)\n",
            "like\t\t4\t\tVocab(count:62879, index:3, sample_int:2204761709)\n",
            "go\t\t5\t\tVocab(count:59254, index:4, sample_int:2289819836)\n",
            "quot\t\t6\t\tVocab(count:57678, index:5, sample_int:2329646646)\n",
            "today\t\t7\t\tVocab(count:54521, index:6, sample_int:2415342673)\n",
            "work\t\t8\t\tVocab(count:52012, index:7, sample_int:2489793525)\n",
            "going\t\t9\t\tVocab(count:51775, index:8, sample_int:2497146958)\n",
            "love\t\t10\t\tVocab(count:51769, index:9, sample_int:2497333875)\n",
            "got\t\t11\t\tVocab(count:49114, index:10, sample_int:2583895173)\n",
            "lol\t\t12\t\tVocab(count:47353, index:11, sample_int:2645910882)\n",
            "time\t\t13\t\tVocab(count:46341, index:12, sample_int:2683388847)\n",
            "back\t\t14\t\tVocab(count:45483, index:13, sample_int:2716292417)\n",
            "u\t\t15\t\tVocab(count:44729, index:14, sample_int:2746108976)\n",
            "one\t\t16\t\tVocab(count:43132, index:15, sample_int:2812236390)\n",
            "know\t\t17\t\tVocab(count:41710, index:16, sample_int:2874802301)\n",
            "----------------------------------------------------------------------------------------------------\n",
            "awww\t\t346\t\tVocab(count:4441, index:345, sample_int:4294967296)\n",
            "bummer\t\t1065\t\tVocab(count:1241, index:1064, sample_int:4294967296)\n",
            "shoulda\t\t3377\t\tVocab(count:285, index:3376, sample_int:4294967296)\n",
            "got\t\t11\t\tVocab(count:49114, index:10, sample_int:2583895173)\n",
            "david\t\t723\t\tVocab(count:1994, index:722, sample_int:4294967296)\n",
            "carr\t\t9396\t\tVocab(count:66, index:9395, sample_int:4294967296)\n",
            "third\t\t1807\t\tVocab(count:654, index:1806, sample_int:4294967296)\n",
            "day\t\t2\t\tVocab(count:69741, index:1, sample_int:2064744927)\n"
          ]
        }
      ]
    },
    {
      "cell_type": "code",
      "metadata": {
        "colab": {
          "base_uri": "https://localhost:8080/"
        },
        "id": "h_WwmJzY1ykj",
        "outputId": "1a5ecc2e-ad55-4ed5-d869-fb71b3a2f9cb"
      },
      "source": [
        "word = 'third'\n",
        "print(word,  tokenizer.word_index[word], w2vModel.wv.vocab[word], sep='\\t\\t')"
      ],
      "execution_count": null,
      "outputs": [
        {
          "output_type": "stream",
          "name": "stdout",
          "text": [
            "third\t\t1807\t\tVocab(count:654, index:1806, sample_int:4294967296)\n"
          ]
        }
      ]
    },
    {
      "cell_type": "code",
      "metadata": {
        "colab": {
          "base_uri": "https://localhost:8080/"
        },
        "id": "72jryx0rw79i",
        "outputId": "690ac7e4-ad64-46b9-e2e8-66f09294217c"
      },
      "source": [
        "print(trainDf.text[0] )\n",
        "print(tokenizer.texts_to_sequences([trainDf.text[0]]))"
      ],
      "execution_count": null,
      "outputs": [
        {
          "output_type": "stream",
          "name": "stdout",
          "text": [
            "awww bummer shoulda got david carr third day\n",
            "[[346, 1065, 3377, 11, 723, 9396, 1807, 2]]\n"
          ]
        }
      ]
    },
    {
      "cell_type": "markdown",
      "metadata": {
        "id": "PFe05GHl5mLH"
      },
      "source": [
        "### Embedding Matrix"
      ]
    },
    {
      "cell_type": "code",
      "metadata": {
        "colab": {
          "base_uri": "https://localhost:8080/"
        },
        "id": "FTEQxfHUHHc6",
        "outputId": "ab203771-7953-4681-d970-f3b5184fac68"
      },
      "source": [
        "emb_matrix = np.zeros((vocab_size, W2V_SIZE))\n",
        "for word, idx in tokenizer.word_index.items():\n",
        "  if word in w2vModel.wv:\n",
        "    emb_matrix[idx] = w2vModel.wv[word]\n",
        "\n",
        "print(emb_matrix.shape)"
      ],
      "execution_count": null,
      "outputs": [
        {
          "output_type": "stream",
          "name": "stdout",
          "text": [
            "(290419, 300)\n"
          ]
        }
      ]
    },
    {
      "cell_type": "markdown",
      "metadata": {
        "id": "T6HYHXdZJx5h"
      },
      "source": [
        "## X,Y train & test"
      ]
    },
    {
      "cell_type": "code",
      "metadata": {
        "id": "0lnBlVDFHsQH"
      },
      "source": [
        "xTrain = pad_sequences(tokenizer.texts_to_sequences(trainDf.text), maxlen=SEQ_LENGTH)\n",
        "xTest = pad_sequences(tokenizer.texts_to_sequences(testDf.text), maxlen=SEQ_LENGTH)"
      ],
      "execution_count": null,
      "outputs": []
    },
    {
      "cell_type": "code",
      "metadata": {
        "id": "638m7s3pJAIp"
      },
      "source": [
        "encoder = LabelEncoder()\n",
        "encoder.fit(trainDf.target.tolist())\n",
        "\n",
        "yTrain = encoder.transform(trainDf.target.tolist()).reshape(-1,1)\n",
        "yTest = encoder.transform(testDf.target.tolist()).reshape(-1,1)"
      ],
      "execution_count": null,
      "outputs": []
    },
    {
      "cell_type": "code",
      "metadata": {
        "colab": {
          "base_uri": "https://localhost:8080/"
        },
        "id": "l7jUWuXnKXQr",
        "outputId": "01764a74-3a63-4da5-ae67-d43741d1d608"
      },
      "source": [
        "print('yTrain', yTrain.shape)\n",
        "print('yTest', yTest.shape)\n",
        "print('xTrain', xTrain.shape)\n",
        "print('xTest', xTest.shape)"
      ],
      "execution_count": null,
      "outputs": [
        {
          "output_type": "stream",
          "name": "stdout",
          "text": [
            "yTrain (1280000, 1)\n",
            "yTest (320000, 1)\n",
            "xTrain (1280000, 300)\n",
            "xTest (320000, 300)\n"
          ]
        }
      ]
    },
    {
      "cell_type": "markdown",
      "metadata": {
        "id": "xNjNfxsQMml_"
      },
      "source": [
        "## Model"
      ]
    },
    {
      "cell_type": "code",
      "metadata": {
        "id": "Z1b-pkAwMmII"
      },
      "source": [
        "embedding_layer = Embedding(vocab_size, W2V_SIZE, input_length=SEQ_LENGTH, weights=[emb_matrix] )"
      ],
      "execution_count": null,
      "outputs": []
    },
    {
      "cell_type": "code",
      "metadata": {
        "colab": {
          "base_uri": "https://localhost:8080/"
        },
        "id": "ACG-d5KULErG",
        "outputId": "2e6e7670-0da2-4e85-eda9-64fb1d2088b6"
      },
      "source": [
        "model = Sequential()\n",
        "model.add(embedding_layer)\n",
        "model.add(Dropout(0.5))\n",
        "model.add(LSTM(100, dropout=0.2, recurrent_dropout=0.2))\n",
        "model.add(Dense(1, activation='sigmoid'))\n",
        "\n",
        "model.summary()"
      ],
      "execution_count": null,
      "outputs": [
        {
          "name": "stdout",
          "output_type": "stream",
          "text": [
            "Model: \"sequential\"\n",
            "_________________________________________________________________\n",
            "Layer (type)                 Output Shape              Param #   \n",
            "=================================================================\n",
            "embedding (Embedding)        (None, 300, 300)          87125700  \n",
            "_________________________________________________________________\n",
            "dropout (Dropout)            (None, 300, 300)          0         \n",
            "_________________________________________________________________\n",
            "lstm (LSTM)                  (None, 100)               160400    \n",
            "_________________________________________________________________\n",
            "dense (Dense)                (None, 1)                 101       \n",
            "=================================================================\n",
            "Total params: 87,286,201\n",
            "Trainable params: 87,286,201\n",
            "Non-trainable params: 0\n",
            "_________________________________________________________________\n"
          ]
        }
      ]
    },
    {
      "cell_type": "code",
      "metadata": {
        "id": "Jyfa4t97-2_g"
      },
      "source": [
        "model.compile(optimizer='adam', metrics=['accuracy'], loss='binary_crossentropy')"
      ],
      "execution_count": null,
      "outputs": []
    },
    {
      "cell_type": "code",
      "metadata": {
        "id": "uZzqGXDzfOky"
      },
      "source": [
        "import keras\n",
        "class CustomSaver(keras.callbacks.Callback):\n",
        "    def on_epoch_end(self, epoch, logs={}):\n",
        "        if epoch % 2 == 0:  # or save after some epoch, each k-th epoch etc.\n",
        "            self.model.save(\"/content/drive/MyDrive/twitter/model_{}.hd5\".format(epoch))"
      ],
      "execution_count": null,
      "outputs": []
    },
    {
      "cell_type": "code",
      "metadata": {
        "id": "N9La9gqp_HwZ"
      },
      "source": [
        "callbacks = [ ReduceLROnPlateau(monitor='val_loss', patience=5, cooldown=0),\n",
        "              EarlyStopping(monitor='val_acc', min_delta=1e-4, patience=5),\n",
        "             CustomSaver()\n",
        "             ]"
      ],
      "execution_count": null,
      "outputs": []
    },
    {
      "cell_type": "code",
      "metadata": {
        "id": "rRQ2Zg0l_veK"
      },
      "source": [
        "history = model.fit(\n",
        "    xTrain, yTrain, BATCH_SIZE, epochs, validation_split=0.1, callbacks=callbacks, verbose=1, initial_epoch=4\n",
        ")"
      ],
      "execution_count": null,
      "outputs": []
    },
    {
      "cell_type": "code",
      "metadata": {
        "id": "UQdy90m-ZWtS"
      },
      "source": [
        "\n",
        "model.save('/content/drive/MyDrive/twitter/MainModel8.h5')"
      ],
      "execution_count": null,
      "outputs": []
    },
    {
      "cell_type": "code",
      "metadata": {
        "id": "Z2IPR5p9kFXF"
      },
      "source": [
        "import keras\n",
        "model = keras.models.load_model('/content/drive/MyDrive/twitter/MainModel8.h5')\n",
        "w2vModel = gensim.models.word2vec.Word2Vec.load('/content/drive/MyDrive/twitter/word2vec.model')"
      ],
      "execution_count": null,
      "outputs": []
    },
    {
      "cell_type": "code",
      "metadata": {
        "colab": {
          "background_save": true,
          "base_uri": "https://localhost:8080/"
        },
        "id": "L-9NKyLykI9h",
        "outputId": "f99846bf-4979-4e60-ccc1-d0bfd1e3f936"
      },
      "source": [
        "score = model.evaluate(xTest, yTest, batch_size=BATCH_SIZE)\n",
        "\n",
        "print(\"ACCURACY:\",score[1])\n",
        "print(\"LOSS:\",score[0])\n"
      ],
      "execution_count": null,
      "outputs": [
        {
          "name": "stdout",
          "output_type": "stream",
          "text": [
            "313/313 [==============================] - 836s 3s/step - loss: 0.5072 - accuracy: 0.7849\n",
            "ACCURACY: 0.7849125266075134\n",
            "LOSS: 0.5072051286697388\n"
          ]
        }
      ]
    },
    {
      "cell_type": "code",
      "metadata": {
        "id": "Zt0Rpr_zlCRM"
      },
      "source": [
        "def predict(text, include_neutral=True):\n",
        "    start_at = time.time()\n",
        "    # Tokenize text\n",
        "    x_test = pad_sequences(tokenizer.texts_to_sequences([text]), maxlen=300)\n",
        "    # Predict\n",
        "    score = model.predict([x_test])[0]\n",
        "    # Decode sentiment\n",
        "    label = 'Postive' if score < 0.5 else 'Negative'\n",
        "\n",
        "    return {\"label\": label, \"score\": float(score),\n",
        "       \"elapsed_time\": time.time()-start_at}  "
      ],
      "execution_count": null,
      "outputs": []
    },
    {
      "cell_type": "code",
      "metadata": {
        "colab": {
          "base_uri": "https://localhost:8080/"
        },
        "id": "3N8Q4yDt2XeJ",
        "outputId": "0f6bb4e0-f4a6-4131-d881-a3eab65265c5"
      },
      "source": [
        "predict(\"I love rain\")"
      ],
      "execution_count": null,
      "outputs": [
        {
          "output_type": "execute_result",
          "data": {
            "text/plain": [
              "{'elapsed_time': 0.10013508796691895,\n",
              " 'label': 'Postive',\n",
              " 'score': 0.14476332068443298}"
            ]
          },
          "metadata": {},
          "execution_count": 31
        }
      ]
    },
    {
      "cell_type": "code",
      "metadata": {
        "id": "_euGwMpwl8JI",
        "colab": {
          "base_uri": "https://localhost:8080/"
        },
        "outputId": "1bb9b60c-b450-4e24-8a76-d30c2a3fa90f"
      },
      "source": [
        "predict('NLP is easy')"
      ],
      "execution_count": null,
      "outputs": [
        {
          "output_type": "execute_result",
          "data": {
            "text/plain": [
              "{'elapsed_time': 0.10351204872131348,\n",
              " 'label': 'Postive',\n",
              " 'score': 0.08874425292015076}"
            ]
          },
          "metadata": {},
          "execution_count": 32
        }
      ]
    },
    {
      "cell_type": "code",
      "metadata": {
        "colab": {
          "base_uri": "https://localhost:8080/"
        },
        "id": "tLkGlSyg2QIg",
        "outputId": "77dd10ff-1756-4045-eb90-0dac5c88f391"
      },
      "source": [
        "predict('the food was expire')"
      ],
      "execution_count": null,
      "outputs": [
        {
          "output_type": "execute_result",
          "data": {
            "text/plain": [
              "{'elapsed_time': 0.09786510467529297,\n",
              " 'label': 'Negative',\n",
              " 'score': 0.9577356576919556}"
            ]
          },
          "metadata": {},
          "execution_count": 37
        }
      ]
    },
    {
      "cell_type": "code",
      "metadata": {
        "id": "O2jUcg9ImAOQ",
        "colab": {
          "base_uri": "https://localhost:8080/"
        },
        "outputId": "30061899-e436-4efd-ca1b-323989bef4c3"
      },
      "source": [
        "predict(\"this game is boring\")"
      ],
      "execution_count": null,
      "outputs": [
        {
          "output_type": "execute_result",
          "data": {
            "text/plain": [
              "{'elapsed_time': 0.10500097274780273,\n",
              " 'label': 'Negative',\n",
              " 'score': 0.9197648167610168}"
            ]
          },
          "metadata": {},
          "execution_count": 38
        }
      ]
    },
    {
      "cell_type": "code",
      "metadata": {
        "id": "1wUFRaCO2fmY"
      },
      "source": [
        "pickle.dump(tokenizer, open('/content/drive/MyDrive/twitter/tokenizer.pkl', \"wb\"), protocol=0)"
      ],
      "execution_count": null,
      "outputs": []
    }
  ]
}